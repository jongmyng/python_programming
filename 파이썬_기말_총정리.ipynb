{
  "nbformat": 4,
  "nbformat_minor": 0,
  "metadata": {
    "colab": {
      "provenance": [],
      "toc_visible": true
    },
    "kernelspec": {
      "name": "python3",
      "display_name": "Python 3"
    },
    "language_info": {
      "name": "python"
    }
  },
  "cells": [
    {
      "cell_type": "markdown",
      "source": [
        "#9주차_복합자료형"
      ],
      "metadata": {
        "id": "47JZeM-lZ451"
      }
    },
    {
      "cell_type": "code",
      "execution_count": null,
      "metadata": {
        "id": "nEA-ONVHZvKS"
      },
      "outputs": [],
      "source": [
        "num1 =[11,22,33]\n",
        "\n",
        "num2= num1[:]\n",
        "num2[1] = 0\n",
        "num2"
      ]
    },
    {
      "cell_type": "code",
      "source": [
        "nums1 =[11,22,33]\n",
        "nums2 = [44,55]\n",
        "\n",
        "nums3 = nums1 + nums2\n",
        "print(nums3) # 11 22 33 44 55\n",
        "\n",
        "nums4 = nums1 * 2\n",
        "print(nums4) # 11 22 33 11 22 33\n",
        "\n"
      ],
      "metadata": {
        "id": "XtcOS-Y5aJPi"
      },
      "execution_count": null,
      "outputs": []
    },
    {
      "cell_type": "code",
      "source": [
        "len(nums3) # 리스트 개수"
      ],
      "metadata": {
        "id": "otUY5Wkba0zA"
      },
      "execution_count": null,
      "outputs": []
    },
    {
      "cell_type": "code",
      "source": [
        "nums1.insert(3,44)\n",
        "nums1 # insert(3번째, 44)"
      ],
      "metadata": {
        "id": "ZDUnZqVIa80o"
      },
      "execution_count": null,
      "outputs": []
    },
    {
      "cell_type": "code",
      "source": [
        "nums = [11,22,33,0,11,22,33]\n",
        "\n",
        "del nums[1] # 22삭제댐\n",
        "print(nums)\n",
        "\n",
        "\n",
        "nums.remove(33) ## 걍 33삭제\n",
        "print(nums)\n",
        "\n"
      ],
      "metadata": {
        "id": "6NpzvTvha8xP"
      },
      "execution_count": null,
      "outputs": []
    },
    {
      "cell_type": "code",
      "source": [
        "# 튜플\n",
        "t1 = (11,22)\n",
        "t2 = (44,55)\n",
        "t1+t2"
      ],
      "metadata": {
        "id": "kdY3J0xSb3NG"
      },
      "execution_count": null,
      "outputs": []
    },
    {
      "cell_type": "code",
      "source": [
        "d = {'python':'파이썬',\n",
        "     'basic':'기초',\n",
        "     'programming':'프러그래밍'}\n",
        "\n"
      ],
      "metadata": {
        "id": "5lH2kgIyccEm"
      },
      "execution_count": null,
      "outputs": []
    },
    {
      "cell_type": "code",
      "source": [
        "d['basic']"
      ],
      "metadata": {
        "colab": {
          "base_uri": "https://localhost:8080/",
          "height": 35
        },
        "id": "jFU0uI_TvseE",
        "outputId": "c9008337-c1e9-49cc-e5a1-3ebb57c0c1ae"
      },
      "execution_count": null,
      "outputs": [
        {
          "output_type": "execute_result",
          "data": {
            "text/plain": [
              "'기초'"
            ],
            "application/vnd.google.colaboratory.intrinsic+json": {
              "type": "string"
            }
          },
          "metadata": {},
          "execution_count": 11
        }
      ]
    },
    {
      "cell_type": "code",
      "source": [
        "d['PYTHON'] ='파이썬'"
      ],
      "metadata": {
        "id": "hSunnnxxdAXv"
      },
      "execution_count": null,
      "outputs": []
    },
    {
      "cell_type": "code",
      "source": [
        "del d['PYTHON']"
      ],
      "metadata": {
        "id": "U7nXIBxYdFG2"
      },
      "execution_count": null,
      "outputs": []
    },
    {
      "cell_type": "code",
      "source": [
        "# d.clear() 다삭제"
      ],
      "metadata": {
        "id": "jxx-PTTudFDp"
      },
      "execution_count": null,
      "outputs": []
    },
    {
      "cell_type": "markdown",
      "source": [
        "## 9-1 연습문제 학생점수 3개 받아 평균출력"
      ],
      "metadata": {
        "id": "L251KSIWddKq"
      }
    },
    {
      "cell_type": "code",
      "source": [
        "import numpy as np\n",
        "\n",
        "scores = []\n",
        "def get_scores():\n",
        "  for i in range(3):\n",
        "    scores.append(int(input(f'#{i+1}')))\n",
        "  print(f'입력점수 : {scores}')\n",
        "  print(f'평균: {round(np.mean(scores),2)}')\n",
        "\n",
        "\n",
        "get_scores()"
      ],
      "metadata": {
        "id": "WwrNtjJ_dFAl",
        "colab": {
          "base_uri": "https://localhost:8080/"
        },
        "outputId": "18548800-2ed8-448b-8243-8a1ef9a70ee1"
      },
      "execution_count": 1,
      "outputs": [
        {
          "output_type": "stream",
          "name": "stdout",
          "text": [
            "#12\n",
            "#22\n",
            "#33\n",
            "입력점수 : [2, 2, 3]\n",
            "평균: 2.33\n"
          ]
        }
      ]
    },
    {
      "cell_type": "markdown",
      "source": [
        "## 9-2 연습문제 특정점수를 받은 학생 번호 확인"
      ],
      "metadata": {
        "id": "qCO__dslfzMD"
      }
    },
    {
      "cell_type": "code",
      "source": [
        "import numpy as np\n",
        "\n",
        "scores = []\n",
        "def get_scores():\n",
        "  print('[점수입력]')\n",
        "  for i in range(3):\n",
        "    scores.append(int(input(f'#{i+1}')))\n",
        "  print()\n",
        "\n",
        "  print('[점수출력]')\n",
        "  print(f'입력점수 : {scores}')\n",
        "  print(f'평균: {round(np.mean(scores),2)}')\n",
        "  print()\n",
        "\n",
        "  print('[검색]')\n",
        "  a = int(input('찾고자하는 점수는?'))\n",
        "  for b, sc in enumerate(scores):      # a에 점수 입력받고  sc에 스코어를 넣음\n",
        "    if a == sc:  # a==sc\n",
        "      print(f'{sc}점은 {b+1}번 학생의 점수입니다')\n",
        "\n",
        "get_scores()"
      ],
      "metadata": {
        "id": "cFciGC1gdE9Z",
        "colab": {
          "base_uri": "https://localhost:8080/"
        },
        "outputId": "b393aeb5-7f18-479e-ca5a-87c3ee413fdd"
      },
      "execution_count": 2,
      "outputs": [
        {
          "output_type": "stream",
          "name": "stdout",
          "text": [
            "[점수입력]\n",
            "#13\n",
            "#22\n",
            "#31\n",
            "\n",
            "[점수출력]\n",
            "입력점수 : [3, 2, 1]\n",
            "평균: 2.0\n",
            "\n",
            "[검색]\n",
            "찾고자하는 점수는?3\n",
            "3점은 1번 학생의 점수입니다\n"
          ]
        }
      ]
    },
    {
      "cell_type": "markdown",
      "source": [
        "##9-3 쇼핑몰 장바구니 시뮬레이션 프로그램"
      ],
      "metadata": {
        "id": "gVaYSFqxjcGU"
      }
    },
    {
      "cell_type": "code",
      "source": [
        "shopping_bag = []\n",
        "while True:\n",
        "  item = input('상품명?')\n",
        "  if item == '':\n",
        "    break\n",
        "  print(f'장바구니에{item}가 담겼습니다 \\n')\n",
        "  shopping_bag.append(item)\n",
        "\n",
        "\n",
        "print(f'장바구니 보기 >> {shopping_bag}')"
      ],
      "metadata": {
        "colab": {
          "base_uri": "https://localhost:8080/"
        },
        "id": "_0CO8wfeqrRx",
        "outputId": "17dd8ebb-6303-4f98-9e41-517bf68a5242"
      },
      "execution_count": null,
      "outputs": [
        {
          "output_type": "stream",
          "name": "stdout",
          "text": [
            "상품명?아아\n",
            "장바구니에아아가 담겼습니다 \n",
            "\n",
            "상품명?3\n",
            "장바구니에3가 담겼습니다 \n",
            "\n",
            "상품명?\n",
            "장바구니 보기 >> ['아아', '3']\n"
          ]
        }
      ]
    },
    {
      "cell_type": "markdown",
      "source": [
        "## 9-4 문제 9.3에 수량 저장/출력 기능 추가"
      ],
      "metadata": {
        "id": "AWvPFdf2rKey"
      }
    },
    {
      "cell_type": "code",
      "source": [
        "shopping_bag = []\n",
        "\n",
        "while True:\n",
        "  print('[구입]')\n",
        "  item = input('상품명?')\n",
        "  cnt = input(('수량은?'))\n",
        "  if item == '':\n",
        "    break\n",
        "  shopping_bag.append({item:cnt})\n",
        "  print(f'장바구니에{item}이 {cnt}개 담겼습니다 \\n')\n",
        "\n",
        "print(f'장바구니 보기 >> {shopping_bag}')\n",
        "\n",
        "\n",
        "while True :\n",
        "  print('[검색]')\n",
        "  find = input('장바구니에서 확인하고자 하는 상품은?')\n",
        "  if find == '':\n",
        "    break\n",
        "  for i in shopping_bag :   ###\n",
        "    if find in i:           ###\n",
        "      cnt = i[find]        ####\n",
        "      print(f'{find}는 {cnt}개 잉ㅆ습니다') ### 여기 잘 멀라"
      ],
      "metadata": {
        "colab": {
          "base_uri": "https://localhost:8080/"
        },
        "id": "inxL8wN6dE3_",
        "outputId": "af3b9635-271b-43b4-b9fc-357838f7f377"
      },
      "execution_count": 3,
      "outputs": [
        {
          "name": "stdout",
          "output_type": "stream",
          "text": [
            "[구입]\n",
            "상품명?아아\n",
            "수량은?1\n",
            "장바구니에아아이 1개 담겼습니다 \n",
            "\n",
            "[구입]\n",
            "상품명?ㅇㅇ\n",
            "수량은?1\n",
            "장바구니에ㅇㅇ이 1개 담겼습니다 \n",
            "\n",
            "[구입]\n",
            "상품명?\n",
            "수량은?\n",
            "장바구니 보기 >> [{'아아': '1'}, {'ㅇㅇ': '1'}]\n",
            "[검색]\n",
            "장바구니에서 확인하고자 하는 상품은?\n"
          ]
        }
      ]
    },
    {
      "cell_type": "markdown",
      "source": [
        "# 10주차_복합자료형의 활용"
      ],
      "metadata": {
        "id": "Qk278XkkwNuQ"
      }
    },
    {
      "cell_type": "code",
      "source": [
        "# 함수에 전달된 리스트\n",
        "def input_list(lst):\n",
        "  name=input('이름?')\n",
        "  num = input('번호?')\n",
        "\n",
        "  lst.append(name)\n",
        "  lst.append(num)\n",
        "\n",
        "userinfo = []\n",
        "input_list(userinfo)\n",
        "print(f'{userinfo[1]}번 {userinfo[0]}')"
      ],
      "metadata": {
        "colab": {
          "base_uri": "https://localhost:8080/"
        },
        "id": "tfMMnJHyrIc8",
        "outputId": "ca55f393-333c-47e6-a2fd-e93a8d484fb1"
      },
      "execution_count": null,
      "outputs": [
        {
          "output_type": "stream",
          "name": "stdout",
          "text": [
            "이름?이종명\n",
            "번호?1\n",
            "1번 이종명\n"
          ]
        }
      ]
    },
    {
      "cell_type": "code",
      "source": [
        "# 리스트를 반환하는 함수\n",
        "def input_list():\n",
        "  name=input('이름?')\n",
        "  num = input('번호?')\n",
        "\n",
        "  lst = []\n",
        "  lst.append(name)\n",
        "  lst.append(num)\n",
        "  return lst\n",
        "\n",
        "userinfo = input_list\n",
        "input_list(userinfo)\n",
        "print(f'{userinfo[1]}번 {userinfo[0]}')"
      ],
      "metadata": {
        "id": "05pZv4TSwLWp"
      },
      "execution_count": null,
      "outputs": []
    },
    {
      "cell_type": "code",
      "source": [
        "lst =[1,2,3,4]\n",
        "\n",
        "for i in range(len(lst)):\n",
        "  print(i, end='')"
      ],
      "metadata": {
        "colab": {
          "base_uri": "https://localhost:8080/"
        },
        "id": "9pRsMehZwLTd",
        "outputId": "df745db5-66c0-4ca4-936c-24f5cd717d58"
      },
      "execution_count": null,
      "outputs": [
        {
          "output_type": "stream",
          "name": "stdout",
          "text": [
            "0123"
          ]
        }
      ]
    },
    {
      "cell_type": "markdown",
      "source": [
        "## 인구조사 프로그램"
      ],
      "metadata": {
        "id": "xoesPz_foy4_"
      }
    },
    {
      "cell_type": "code",
      "source": [
        "# 각 층의 인구조사 프로그램 실습..\n",
        "import numpy as np\n",
        "peo =[]\n",
        "\n",
        "def pop():\n",
        "  for i in range(4):\n",
        "    people=int(input(f'{i+1}층의 거주 인원수는?\\t'))\n",
        "    peo.append(people)\n",
        "\n",
        "  for idx, cnt in enumerate(peo):\n",
        "      print(f'{idx+1}층의 거주인원 수는 {cnt}명입니다')\n",
        "\n",
        "  print(f'총 거주인원 수는 {np.sum(peo)}명이다')\n",
        "\n",
        "pop()\n"
      ],
      "metadata": {
        "colab": {
          "base_uri": "https://localhost:8080/"
        },
        "id": "JshXHicrwLQH",
        "outputId": "732691c0-b65b-4345-cd6a-173edd3b2b50"
      },
      "execution_count": 4,
      "outputs": [
        {
          "output_type": "stream",
          "name": "stdout",
          "text": [
            "1층의 거주 인원수는?\t1\n",
            "2층의 거주 인원수는?\t2\n",
            "3층의 거주 인원수는?\t3\n",
            "4층의 거주 인원수는?\t4\n",
            "1층의 거주인원 수는 1명입니다\n",
            "2층의 거주인원 수는 2명입니다\n",
            "3층의 거주인원 수는 3명입니다\n",
            "4층의 거주인원 수는 4명입니다\n",
            "총 거주인원 수는 10명이다\n"
          ]
        }
      ]
    },
    {
      "cell_type": "markdown",
      "source": [
        "## 딕셔너리 key value item"
      ],
      "metadata": {
        "id": "leH6Nh_5pzVM"
      }
    },
    {
      "cell_type": "code",
      "source": [
        "# 이중리스트 반복접근\n",
        "# 딕셔너리.keys() 키들의 목록\n",
        "# 딕셔너리.values() 딕셔너리 값의 목록\n",
        "# 딕셔너리.items() 키 - 값 쌍"
      ],
      "metadata": {
        "id": "aaNaDLoOk-WM"
      },
      "execution_count": null,
      "outputs": []
    },
    {
      "cell_type": "code",
      "source": [
        "d = {'python':'파이썬',\n",
        "     'basic':'기초',\n",
        "     'programming':'프러그래밍'}\n",
        "\n",
        "for key in d.keys():\n",
        "  print(key, d[key])"
      ],
      "metadata": {
        "colab": {
          "base_uri": "https://localhost:8080/"
        },
        "id": "3jds8-zGwLND",
        "outputId": "141c291c-f453-48ca-b6e4-0ebd21cf934e"
      },
      "execution_count": null,
      "outputs": [
        {
          "output_type": "stream",
          "name": "stdout",
          "text": [
            "python 파이썬\n",
            "basic 기초\n",
            "programming 프러그래밍\n"
          ]
        }
      ]
    },
    {
      "cell_type": "markdown",
      "source": [
        "## 키 오류 처리"
      ],
      "metadata": {
        "id": "hch-8uz0reQ-"
      }
    },
    {
      "cell_type": "code",
      "source": [
        "d = {'python':'파이썬',\n",
        "     'basic':'기초',\n",
        "     'programming':'프러그래밍'}\n",
        "\n",
        "\n",
        "def dict_get(dic, key):\n",
        "  if key in dic:\n",
        "    return dic[key]\n",
        "\n",
        "  else :\n",
        "    return None\n",
        "\n",
        "\n",
        "# 키 잘못넣으면 잘못햄 나옴\n",
        "res = dict_get(d, 'python')\n",
        "\n",
        "if res != None:\n",
        "  print(res)\n",
        "\n",
        "else :\n",
        "   print('잘못햄')"
      ],
      "metadata": {
        "colab": {
          "base_uri": "https://localhost:8080/"
        },
        "id": "HTlsiAcCwLJ-",
        "outputId": "94b850eb-a605-4d6f-eacf-ac162d699b44"
      },
      "execution_count": null,
      "outputs": [
        {
          "output_type": "stream",
          "name": "stdout",
          "text": [
            "잘못햄\n"
          ]
        }
      ]
    },
    {
      "cell_type": "markdown",
      "source": [
        "## 키 요소 추가하기"
      ],
      "metadata": {
        "id": "aCwg4U7wrgIK"
      }
    },
    {
      "cell_type": "code",
      "source": [
        "d = {'python':'파이썬',\n",
        "     'basic':'기초',\n",
        "     'programming':'프러그래밍'}\n",
        "\n",
        "\n",
        "def dic_append(dic, key, value):\n",
        "  if key in dic:\n",
        "    return False\n",
        "\n",
        "  dic[key] = value\n",
        "  return True\n",
        "\n",
        "\n",
        "if dic_append(d, 'PHYTON', '파이썬'):\n",
        "  print('성공')\n",
        "\n",
        "else:\n",
        "  print('실패')\n",
        "\n",
        "if dic_append(d, 'basic', '베이직'):\n",
        "  print('성겅')\n",
        "\n",
        "else:\n",
        "  print('tfvo')\n",
        "\n",
        "\n",
        "print(d)"
      ],
      "metadata": {
        "colab": {
          "base_uri": "https://localhost:8080/"
        },
        "id": "zX7KjwXiwLG5",
        "outputId": "be0a99d0-d9a2-466f-aa98-d45f89d6151f"
      },
      "execution_count": null,
      "outputs": [
        {
          "output_type": "stream",
          "name": "stdout",
          "text": [
            "성공\n",
            "tfvo\n",
            "{'python': '파이썬', 'basic': '기초', 'programming': '프러그래밍', 'PHYTON': '파이썬'}\n"
          ]
        }
      ]
    },
    {
      "cell_type": "markdown",
      "source": [
        "## 키 삭제"
      ],
      "metadata": {
        "id": "5t-QX3JyurQf"
      }
    },
    {
      "cell_type": "code",
      "source": [
        "d = {'python':'파이썬',\n",
        "     'basic':'기초',\n",
        "     'programming':'프러그래밍'}\n",
        "\n",
        "\n",
        "def dict_delete(dic, key):\n",
        "  if key in dic:\n",
        "    del dic[key]\n",
        "    return True\n",
        "\n",
        "  else:\n",
        "    return False\n",
        "\n",
        "\n",
        "if dict_delete(d, 'basic'):\n",
        "  print( '성공')\n",
        "else: print('실패')"
      ],
      "metadata": {
        "colab": {
          "base_uri": "https://localhost:8080/"
        },
        "id": "rJKEg29FwLD1",
        "outputId": "c9f5bb2c-0753-43ef-e2ff-9312abe6980c"
      },
      "execution_count": null,
      "outputs": [
        {
          "output_type": "stream",
          "name": "stdout",
          "text": [
            "성공\n"
          ]
        }
      ]
    },
    {
      "cell_type": "markdown",
      "source": [
        "## 10.2 사용자로부터 입력받은 수 중 가장 큰 수 (find_max)"
      ],
      "metadata": {
        "id": "cvM01TXAvEUr"
      }
    },
    {
      "cell_type": "code",
      "source": [
        "# 걍 max로 받기\n",
        "lst = []\n",
        "\n",
        "def find_max():\n",
        "  for i in range(5):\n",
        "    a=int(input('정수입력:'))\n",
        "    lst.append(a)\n",
        "  print(f'가장 큰 정수는 {np.max(lst)}다')\n",
        "\n",
        "find_max()\n",
        "\n"
      ],
      "metadata": {
        "id": "jNeaowfLwLA-"
      },
      "execution_count": null,
      "outputs": []
    },
    {
      "cell_type": "code",
      "source": [
        "# max ㄴㄴ .\n",
        "\n",
        "num = []\n",
        "for i in range(5):\n",
        "  n =int(input('정수입력'))\n",
        "  num.append(n)\n",
        "\n",
        "# ---------------------- 여기따로 리스트로 입력받음 ------------------\n",
        "\n",
        "def find_max(lst):\n",
        "  n = lst[0]\n",
        "  for i in range(1, len(lst)):\n",
        "    if lst[i] > n:\n",
        "      n =lst[i]\n",
        "\n",
        "    return n\n",
        "\n",
        "\n",
        "print(f'가장 큰 정수는 {find_max(num)}')"
      ],
      "metadata": {
        "colab": {
          "base_uri": "https://localhost:8080/"
        },
        "id": "VGnt_oS2w-5T",
        "outputId": "032e0098-d41c-40a6-f7b0-69fd33948a48"
      },
      "execution_count": null,
      "outputs": [
        {
          "output_type": "stream",
          "name": "stdout",
          "text": [
            "정수입력131\n",
            "정수입력131313\n",
            "정수입력13113113\n",
            "정수입력23232\n",
            "정수입력9\n",
            "가장 큰 정수는 131313\n"
          ]
        }
      ]
    },
    {
      "cell_type": "markdown",
      "source": [
        "## 10.3 학생점수를 입력받아 평균내기\n",
        "## Input_score get_average, show_score"
      ],
      "metadata": {
        "id": "LOn5_yoT18Yx"
      }
    },
    {
      "cell_type": "code",
      "source": [
        "import numpy as np\n",
        "\n",
        "scores = []\n",
        "\n",
        "def input_scores():\n",
        "  i = 1\n",
        "  print('[점수입력]')\n",
        "  while True :\n",
        "    n = int(input(f'#{i}?'))\n",
        "    if n < 0 :\n",
        "      break\n",
        "    scores.append(n)\n",
        "    i+=1\n",
        "  return scores\n",
        "\n",
        "\n",
        "def get_average():\n",
        "  print(f'[점수출력]\\n평균: {round(np.mean(scores),2)}')\n",
        "\n",
        "\n",
        "def show_scores():\n",
        "  print('[점수출력]')\n",
        "  print(f'개인점수 : {scores}',end = '')\n",
        "\n",
        "\n",
        "\n",
        "input_scores()\n",
        "print()\n",
        "get_average()\n",
        "print()\n",
        "show_scores()\n"
      ],
      "metadata": {
        "colab": {
          "base_uri": "https://localhost:8080/"
        },
        "id": "Wq8ttj0Yw-zZ",
        "outputId": "eaff35c6-100f-4995-eb12-26de0f34a106"
      },
      "execution_count": null,
      "outputs": [
        {
          "output_type": "stream",
          "name": "stdout",
          "text": [
            "[점수입력]\n",
            "#1?323\n",
            "#2?2323\n",
            "#3?-1\n",
            "\n",
            "[점수출력]\n",
            "평균: 1323.0\n",
            "\n",
            "[점수출력]\n",
            "개인점수 : ([323, 2323],)"
          ]
        }
      ]
    },
    {
      "cell_type": "markdown",
      "source": [
        "## 10.4 10.3 실행 후 학생 번호 확인 (search 다시)"
      ],
      "metadata": {
        "id": "9CJyHzWkHDyP"
      }
    },
    {
      "cell_type": "code",
      "source": [
        "import numpy as np\n",
        "\n",
        "scores = []\n",
        "\n",
        "def input_scores():\n",
        "  i = 1\n",
        "  print('[점수입력]')\n",
        "  while True :\n",
        "    n = int(input(f'#{i}?'))\n",
        "    if n < 0 :\n",
        "      break\n",
        "    scores.append(n)\n",
        "    i+=1\n",
        "  return scores\n",
        "\n",
        "\n",
        "def get_average():\n",
        "  print(f'[점수출력]\\n평균: {round(np.mean(scores),2)}')\n",
        "\n",
        "\n",
        "def show_scores():\n",
        "  print('[점수출력]')\n",
        "  print(f'개인점수 : {scores}',end = '')\n",
        "\n",
        "def search(lst,n):\n",
        "  for idx, i in enumerate(lst):\n",
        "    if n in lst :\n",
        "      print(f'{i}점은 {idx+1}번의 점수다' )\n",
        "      break\n",
        "    else :\n",
        "      print(f'{n}점을 받은사람은 업다.')\n",
        "\n",
        "\n",
        "input_scores()\n",
        "print()\n",
        "6\n",
        "get_average()\n",
        "print()\n",
        "\n",
        "show_scores()\n",
        "print()\n",
        "\n",
        "n=int(input('찾고자하는점수?'))\n",
        "search(scores,n)"
      ],
      "metadata": {
        "colab": {
          "base_uri": "https://localhost:8080/"
        },
        "id": "V94QaA4qw-vx",
        "outputId": "4fbd35c4-6e5d-4965-d274-bef531081f3e"
      },
      "execution_count": null,
      "outputs": [
        {
          "output_type": "stream",
          "name": "stdout",
          "text": [
            "[점수입력]\n",
            "#1?13\n",
            "#2?42\n",
            "#3?23\n",
            "#4?-1\n",
            "\n",
            "[점수출력]\n",
            "평균: 26.0\n",
            "\n",
            "[점수출력]\n",
            "개인점수 : [13, 42, 23]\n",
            "찾고자하는점수?13\n",
            "13점은 1번의 점수다\n"
          ]
        }
      ]
    },
    {
      "cell_type": "markdown",
      "source": [
        "## 10.6 9.4 쇼핑몰장바구니 + buy show find"
      ],
      "metadata": {
        "id": "TYMjzs7ZOSW0"
      }
    },
    {
      "cell_type": "code",
      "source": [
        "shopping_bag = {}\n",
        "\n",
        "def buy():\n",
        "  while True:\n",
        "    print('[구입]')\n",
        "    pro = input('상품명?')\n",
        "    if pro == '':\n",
        "      break\n",
        "    cnt = input('수량은?')\n",
        "    shopping_bag[pro] = cnt\n",
        "    print(f'장바구니에 {pro}가 {cnt}개 담겼습니다')\n",
        "  print(f'>>장바구니 보기 : {shopping_bag}')\n",
        "\n",
        "\n",
        "\n",
        "def find():\n",
        "  print('[검색]')\n",
        "  fd = input('장바구니에서 확인하고자 하는 상품은?')\n",
        "  if fd in shopping_bag:\n",
        "    print(f'{fd}는 {shopping_bag[fd]}개 있습니다')\n",
        "  else :\n",
        "    print(f'장바구니에 {fd}는 없습ㄴ디ㅏ')\n",
        "\n",
        "\n",
        "buy()\n",
        "print()\n",
        "find()"
      ],
      "metadata": {
        "colab": {
          "base_uri": "https://localhost:8080/"
        },
        "id": "I_V5R4lJw-sL",
        "outputId": "ef38eebc-34df-40c2-9450-0823c95f8c40"
      },
      "execution_count": null,
      "outputs": [
        {
          "output_type": "stream",
          "name": "stdout",
          "text": [
            "[구입]\n",
            "상품명?dkd\n",
            "수량은?1\n",
            "장바구니에 dkd가 1개 담겼습니다\n",
            "[구입]\n",
            "상품명?d\n",
            "수량은?4\n",
            "장바구니에 d가 4개 담겼습니다\n",
            "[구입]\n",
            "상품명?\n",
            ">>장바구니 보기 : {'dkd': '1', 'd': '4'}\n",
            "\n",
            "[검색]\n",
            "장바구니에서 확인하고자 하는 상품은?d\n",
            "d는 4개 있습니다\n"
          ]
        }
      ]
    },
    {
      "cell_type": "code",
      "source": [],
      "metadata": {
        "colab": {
          "base_uri": "https://localhost:8080/"
        },
        "id": "lNS2g5fnw-ob",
        "outputId": "a8455822-542e-4e04-edee-30828a5ae71a"
      },
      "execution_count": null,
      "outputs": [
        {
          "name": "stdout",
          "output_type": "stream",
          "text": [
            "[구입]\n",
            "상품명?dkdk\n",
            "수량은?1\n",
            "장바구니에dkdk이 1개 담겼습니다 \n",
            "\n",
            "[구입]\n",
            "상품명?\n",
            "수량은?\n",
            "장바구니 보기 >> [{'dkdk': '1'}]\n",
            "[검색]\n",
            "장바구니에서 확인하고자 하는 상품은?dkdk\n",
            "dkdk는 1개 잉ㅆ습니다\n",
            "[검색]\n",
            "장바구니에서 확인하고자 하는 상품은?\n"
          ]
        }
      ]
    },
    {
      "cell_type": "markdown",
      "source": [
        "#11주차_클래스와 객체"
      ],
      "metadata": {
        "id": "EJFPBVmlcAEM"
      }
    },
    {
      "cell_type": "code",
      "source": [
        "# 객체지향적으로 하기\n",
        "# 원의 넓이와 둘레르 구하세영"
      ],
      "metadata": {
        "id": "hzfKoBuNw-jx"
      },
      "execution_count": null,
      "outputs": []
    },
    {
      "cell_type": "code",
      "source": [
        "# 속성 - 정적인 ,객체의 특성\n",
        "# 행위 - 객체들간에 영향을 주고받는 일 ,동적인 일\n",
        "# 객체 - 데이터 (원)"
      ],
      "metadata": {
        "id": "vvGAeqnrw-g7"
      },
      "execution_count": null,
      "outputs": []
    },
    {
      "cell_type": "code",
      "source": [
        "# 클래스 - 객체 생성을 위해 정의되는 틀, 객체생성전에 먼저정의 되어야함\n",
        "\n",
        "# self.데이터 속성이름 = 값 > 데이터 속성 추가"
      ],
      "metadata": {
        "id": "cuDdt2z_w-dZ"
      },
      "execution_count": null,
      "outputs": []
    },
    {
      "cell_type": "code",
      "source": [
        "class Circle:\n",
        "  def __init__(self, radius):\n",
        "    self.radius = radius\n",
        "\n",
        "  def getCircumference(self):\n",
        "    result =2 * 3.14 * self.radius\n",
        "    return result\n",
        "\n",
        "  def getArea(self):\n",
        "    result = 3.14 * self.radius **2\n",
        "    return result\n",
        "\n",
        "\n",
        "small = Circle(1)\n",
        "big = Circle(10)\n",
        "\n",
        "# small.radius = 1\n",
        "# big.radius = 10\n",
        "\n",
        "\n",
        "print(small.getCircumference())"
      ],
      "metadata": {
        "id": "1IFr7WVjw-YX",
        "colab": {
          "base_uri": "https://localhost:8080/"
        },
        "outputId": "13c80fe1-0f97-4277-af94-403b456da214"
      },
      "execution_count": null,
      "outputs": [
        {
          "output_type": "stream",
          "name": "stdout",
          "text": [
            "6.28\n"
          ]
        }
      ]
    },
    {
      "cell_type": "code",
      "source": [
        "class Circle :\n",
        "  def getCircumference(self):\n",
        "    res = 2* 3.14 * self.radius\n",
        "    return res\n",
        "\n",
        "  def getArea(self):\n",
        "    res = 3.14  * self.radius ** 2\n",
        "    return res\n",
        "\n",
        "# self가 small big 이 된거네\n",
        "small = Circle()\n",
        "big = Circle()\n",
        "\n",
        "small.radius = 1\n",
        "big.radius = 10\n",
        "\n",
        "\n",
        "big.getArea()\n",
        "big.getCircumference()"
      ],
      "metadata": {
        "colab": {
          "base_uri": "https://localhost:8080/"
        },
        "id": "hGMpLJ1XDTyX",
        "outputId": "a77b52f2-64c0-4c57-eb64-0b1d923712c4"
      },
      "execution_count": null,
      "outputs": [
        {
          "output_type": "execute_result",
          "data": {
            "text/plain": [
              "62.800000000000004"
            ]
          },
          "metadata": {},
          "execution_count": 10
        }
      ]
    },
    {
      "cell_type": "code",
      "source": [
        "class Circle :\n",
        "  def __init__(self, radius):\n",
        "    self.radius = radius # 객체 초기화\n",
        "\n",
        "\n",
        "  def getCircumference(self):\n",
        "    res = 2* 3.14 * self.radius\n",
        "    return res\n",
        "\n",
        "  def getArea(self):\n",
        "    res = 3.14  * self.radius ** 2\n",
        "    return res\n",
        "\n",
        "\n",
        "# 객체 생성 시 호출 통해 자동 초기화 한다\n",
        "small = Circle(1)\n",
        "big = Circle(10)\n",
        "\n",
        "big.getArea()\n",
        "big.getCircumference()"
      ],
      "metadata": {
        "colab": {
          "base_uri": "https://localhost:8080/"
        },
        "id": "yqlbxhy9Eb3B",
        "outputId": "f7170ac8-ae66-4f55-89f0-3ed1e938ad3c"
      },
      "execution_count": null,
      "outputs": [
        {
          "output_type": "execute_result",
          "data": {
            "text/plain": [
              "62.800000000000004"
            ]
          },
          "metadata": {},
          "execution_count": 13
        }
      ]
    },
    {
      "cell_type": "code",
      "source": [
        "# 비공개 메소드\n",
        "class Circle :\n",
        "  def __init__(self, radius):\n",
        "    self.__radius = radius #__ 넣어서 비공개 메소드\n",
        "\n",
        "\n",
        "  def getCircumference(self):\n",
        "    res = 2* 3.14 * self.__radius\n",
        "    return res\n",
        "\n",
        "  def getArea(self):\n",
        "    res = 3.14  * self.__radius ** 2\n",
        "    return res\n",
        "\n",
        "\n",
        "# 객체 생성 시 호출 통해 자동 초기화 한다\n",
        "\n",
        "big.__radius =-10\n",
        "big.getArea()\n",
        "big.getCircumference()"
      ],
      "metadata": {
        "colab": {
          "base_uri": "https://localhost:8080/"
        },
        "id": "sdlWcxzHFVlh",
        "outputId": "53b83bbb-23e8-4440-8812-165bec7e3fff"
      },
      "execution_count": null,
      "outputs": [
        {
          "output_type": "execute_result",
          "data": {
            "text/plain": [
              "62.800000000000004"
            ]
          },
          "metadata": {},
          "execution_count": 14
        }
      ]
    },
    {
      "cell_type": "code",
      "source": [
        "class Circle:\n",
        "  __PI = 3.14\n",
        "\n",
        "  def __init__(self, radius):\n",
        "    self.__radius = radius # 초기화\n",
        "\n",
        "  def getCircumference(self):\n",
        "    res = 2 * Cicle.__PI * self__radius\n",
        "    return res\n",
        "\n",
        "  def getArea(self) :\n",
        "    res = Circle.__PI * self.__radius **2\n",
        "    return res\n",
        "\n",
        "  def setRadius(self, radius):\n",
        "    self.__radius = radius\n",
        "\n",
        "  def getRadius(self) :\n",
        "    return radius\n",
        "\n",
        "small = Circle(1)"
      ],
      "metadata": {
        "id": "EFUlQMe9GNFp"
      },
      "execution_count": null,
      "outputs": []
    },
    {
      "cell_type": "markdown",
      "source": [
        "## 연습문제 11.1"
      ],
      "metadata": {
        "id": "Ei0gi2LcfhMd"
      }
    },
    {
      "cell_type": "code",
      "source": [
        "#  연관된 정보로 2차원 상의 한 좌표점(x, y)를 객체로 표현\n",
        "# ▪ Point 객체 생성 시 생성자의 인수로 두 정수를 지정\n",
        "# 순서대로 이를 (x, y)값으로 설정. 인수값 생략시 기본값 (0, 0)\n",
        "# ▪ 메소드 show(): 현재 객체의 좌표값을 (x, y) 형식의 문자열로 출력\n",
        "# ▪ 메소드 set(): Point 객체에 새로운 좌표값 설정\n",
        "# ▪ 메소드 get(): 현재 객체가 갖고 있는 좌표값을 튜플로 반환\n",
        "\n"
      ],
      "metadata": {
        "id": "tmYInGd3w-VK"
      },
      "execution_count": null,
      "outputs": []
    },
    {
      "cell_type": "code",
      "source": [
        "class Point:\n",
        "  def __init__(self, x=0, y=0):\n",
        "      self.__x=x\n",
        "      self.__y=y\n",
        "\n",
        "  def show(self):\n",
        "    print(f'{self.__x}, {self.__y}')\n",
        "\n",
        "  def set(self, x ,y):\n",
        "    self.__x = x\n",
        "    self.__y = y\n",
        "\n",
        "  def get(self):\n",
        "    return (self.__x, self.__y)\n",
        "\n",
        "# 주프로그램\n",
        "\n",
        "def test():\n",
        "  p1 = Point()\n",
        "  p2 = Point(2, 3)\n",
        "  p1.show();\n",
        "  p1.set(10, 20); p1.show();\n",
        "  p2.show();\n",
        "  x, y = p2.get()\n",
        "  print(f'x={x}, y={y}')\n",
        "\n",
        "if __name__ == '__main__':\n",
        "  test()"
      ],
      "metadata": {
        "id": "BH4cbdo6w-R1",
        "colab": {
          "base_uri": "https://localhost:8080/"
        },
        "outputId": "cdcf6c8e-5d6e-47a7-f0ed-f06f7147e291"
      },
      "execution_count": null,
      "outputs": [
        {
          "output_type": "stream",
          "name": "stdout",
          "text": [
            "0, 0\n",
            "10, 20\n",
            "2, 3\n",
            "x=2, y=3\n"
          ]
        }
      ]
    },
    {
      "cell_type": "markdown",
      "source": [
        "## 11-2 시각을 나타내는 Time 클래스"
      ],
      "metadata": {
        "id": "p7iQDGeIKKR7"
      }
    },
    {
      "cell_type": "code",
      "source": [
        "class Time:\n",
        "  def __init__(self, hour=0, minute=0):\n",
        "    self.__hour = hour\n",
        "    self.__minute = minute\n",
        "\n",
        "  def display(self):\n",
        "    print(f'{self.__hour :02d}:{self.__minute::02d}')\n",
        "\n",
        "  def add(self, time):\n",
        "    h = self.__hour + time.__hour\n",
        "    m -self.__minute + time.__minute\n",
        "    if m >= 60:\n",
        "      h+= 1\n",
        "      m -= 60\n",
        "    return Time(h,m)\n",
        "\n",
        "  @staticemethod\n",
        "  def is_valid(hour, minute):\n",
        "    if 0 <= hour < 24 and 0<=minute < 60:\n",
        "      return True\n",
        "    return False\n",
        "\n",
        "def main():\n",
        "  t1 = Time(9)\n",
        "  t2 = Time(9, 30)\n",
        "  t1.display()\n",
        "  t2.display()\n",
        "  later = t1.add(Time(1, 15))\n",
        "  later.display()\n",
        "  if Time.is_valid(25, 0):\n",
        "    print('유효한 시각')\n",
        "  else:\n",
        "    print('유효하지 않은 시각')\n",
        "\n",
        "# 주 프로그램부\n",
        "if __name__ == '__main__':\n",
        "  main()"
      ],
      "metadata": {
        "id": "JYNaY6F_w-OU",
        "colab": {
          "base_uri": "https://localhost:8080/",
          "height": 360
        },
        "outputId": "47082646-1b4f-4f27-cf1e-3ea93387c136"
      },
      "execution_count": null,
      "outputs": [
        {
          "output_type": "error",
          "ename": "NameError",
          "evalue": "name 'staticemethod' is not defined",
          "traceback": [
            "\u001b[0;31m---------------------------------------------------------------------------\u001b[0m",
            "\u001b[0;31mNameError\u001b[0m                                 Traceback (most recent call last)",
            "\u001b[0;32m<ipython-input-35-c33c3d46b3ed>\u001b[0m in \u001b[0;36m<cell line: 1>\u001b[0;34m()\u001b[0m\n\u001b[0;32m----> 1\u001b[0;31m \u001b[0;32mclass\u001b[0m \u001b[0mTime\u001b[0m\u001b[0;34m:\u001b[0m\u001b[0;34m\u001b[0m\u001b[0;34m\u001b[0m\u001b[0m\n\u001b[0m\u001b[1;32m      2\u001b[0m   \u001b[0;32mdef\u001b[0m \u001b[0m__init__\u001b[0m\u001b[0;34m(\u001b[0m\u001b[0mself\u001b[0m\u001b[0;34m,\u001b[0m \u001b[0mhour\u001b[0m\u001b[0;34m=\u001b[0m\u001b[0;36m0\u001b[0m\u001b[0;34m,\u001b[0m \u001b[0mminute\u001b[0m\u001b[0;34m=\u001b[0m\u001b[0;36m0\u001b[0m\u001b[0;34m)\u001b[0m\u001b[0;34m:\u001b[0m\u001b[0;34m\u001b[0m\u001b[0;34m\u001b[0m\u001b[0m\n\u001b[1;32m      3\u001b[0m     \u001b[0mself\u001b[0m\u001b[0;34m.\u001b[0m\u001b[0m__hour\u001b[0m \u001b[0;34m=\u001b[0m \u001b[0mhour\u001b[0m\u001b[0;34m\u001b[0m\u001b[0;34m\u001b[0m\u001b[0m\n\u001b[1;32m      4\u001b[0m     \u001b[0mself\u001b[0m\u001b[0;34m.\u001b[0m\u001b[0m__minute\u001b[0m \u001b[0;34m=\u001b[0m \u001b[0mminute\u001b[0m\u001b[0;34m\u001b[0m\u001b[0;34m\u001b[0m\u001b[0m\n\u001b[1;32m      5\u001b[0m \u001b[0;34m\u001b[0m\u001b[0m\n",
            "\u001b[0;32m<ipython-input-35-c33c3d46b3ed>\u001b[0m in \u001b[0;36mTime\u001b[0;34m()\u001b[0m\n\u001b[1;32m     15\u001b[0m     \u001b[0;32mreturn\u001b[0m \u001b[0mTime\u001b[0m\u001b[0;34m(\u001b[0m\u001b[0mh\u001b[0m\u001b[0;34m,\u001b[0m\u001b[0mm\u001b[0m\u001b[0;34m)\u001b[0m\u001b[0;34m\u001b[0m\u001b[0;34m\u001b[0m\u001b[0m\n\u001b[1;32m     16\u001b[0m \u001b[0;34m\u001b[0m\u001b[0m\n\u001b[0;32m---> 17\u001b[0;31m   \u001b[0;34m@\u001b[0m\u001b[0mstaticemethod\u001b[0m\u001b[0;34m\u001b[0m\u001b[0;34m\u001b[0m\u001b[0m\n\u001b[0m\u001b[1;32m     18\u001b[0m   \u001b[0;32mdef\u001b[0m \u001b[0mis_valid\u001b[0m\u001b[0;34m(\u001b[0m\u001b[0mhour\u001b[0m\u001b[0;34m,\u001b[0m \u001b[0mminute\u001b[0m\u001b[0;34m)\u001b[0m\u001b[0;34m:\u001b[0m\u001b[0;34m\u001b[0m\u001b[0;34m\u001b[0m\u001b[0m\n\u001b[1;32m     19\u001b[0m     \u001b[0;32mif\u001b[0m \u001b[0;36m0\u001b[0m \u001b[0;34m<=\u001b[0m \u001b[0mhour\u001b[0m \u001b[0;34m<\u001b[0m \u001b[0;36m24\u001b[0m \u001b[0;32mand\u001b[0m \u001b[0;36m0\u001b[0m\u001b[0;34m<=\u001b[0m\u001b[0mminute\u001b[0m \u001b[0;34m<\u001b[0m \u001b[0;36m60\u001b[0m\u001b[0;34m:\u001b[0m\u001b[0;34m\u001b[0m\u001b[0;34m\u001b[0m\u001b[0m\n",
            "\u001b[0;31mNameError\u001b[0m: name 'staticemethod' is not defined"
          ]
        }
      ]
    },
    {
      "cell_type": "markdown",
      "source": [
        "## 연습문제 11-3 넓이와 둘레 구하기"
      ],
      "metadata": {
        "id": "G0u9KxERP8Rc"
      }
    },
    {
      "cell_type": "code",
      "source": [
        "class Rectangle:\n",
        "  def __init__(self, x1, y1, x2, y2):\n",
        "    self.__x1 = x1\n",
        "    self.__y1 = y1\n",
        "    self.__x2 = x2\n",
        "    self.__y2 = y2\n",
        "\n",
        "  def show(self):\n",
        "    print(f'{self.__x1}, {self.__y1}')\n",
        "    print(f'{self.__x2}, {self.__y2}')\n",
        "\n",
        "  def getWidth(self):\n",
        "    w = abs(self.__x2 - self.__x1)\n",
        "    return w\n",
        "\n",
        "  def getHeight(self):\n",
        "    h = abs(self.__y1 - self.__y2)\n",
        "    return h\n",
        "\n",
        "  def getArea(self):\n",
        "     w = self.getWidth()\n",
        "     h = self.getHeight()\n",
        "     return w * h\n",
        "\n",
        "  def getPerimeter(self):\n",
        "    w = self.getWidth()\n",
        "    h = self.getHeight()\n",
        "    return 2 * (w + h)\n",
        "\n",
        "r1 = Rectangle(5, 5, 20, 10)\n",
        "a = r1.getArea()\n",
        "p = r1.getPerimeter()\n",
        "r1.show()\n",
        "print(f'\\n넓이는 {a}, 둘레는 {p}')\n"
      ],
      "metadata": {
        "id": "2Q343lU6w-Jo",
        "colab": {
          "base_uri": "https://localhost:8080/"
        },
        "outputId": "4ef0d745-113b-4c65-96a8-d03471207a5a"
      },
      "execution_count": null,
      "outputs": [
        {
          "output_type": "stream",
          "name": "stdout",
          "text": [
            "5, 5\n",
            "20, 10\n",
            "\n",
            "넓이는 75, 둘레는 40\n"
          ]
        }
      ]
    },
    {
      "cell_type": "markdown",
      "source": [
        "# 12장 파일 입출력"
      ],
      "metadata": {
        "id": "VRoD284JuZlF"
      }
    },
    {
      "cell_type": "code",
      "source": [
        "# 존재하지 않는 파일 쓰기 모드로 열기\n",
        "file = open('exmaple.txt', 'w')\n",
        "file.close()\n",
        "print('열고닫')"
      ],
      "metadata": {
        "colab": {
          "base_uri": "https://localhost:8080/"
        },
        "id": "e4_3cedOuZHj",
        "outputId": "18929e11-6e43-4446-cdbc-8bc9ca43b9af"
      },
      "execution_count": null,
      "outputs": [
        {
          "output_type": "stream",
          "name": "stdout",
          "text": [
            "열고닫\n"
          ]
        }
      ]
    },
    {
      "cell_type": "code",
      "source": [
        "# 파일 디렉토리 존재여부 확인\n",
        "\n",
        "import os\n",
        "filename = 'example.txt'\n",
        "if os.path.exists(filename): # 파일 존재하냐\n",
        "  file = open(filename, 'r') # 존재하면 읽기모드로 열기\n",
        "  file.close()\n",
        "  print('파일 열고 닫기 완료')\n",
        "else :\n",
        "  print('없음')"
      ],
      "metadata": {
        "colab": {
          "base_uri": "https://localhost:8080/"
        },
        "id": "ZGtim3Z-vrVy",
        "outputId": "478a8dc0-32df-4bac-a5ed-c463d3328f5b"
      },
      "execution_count": null,
      "outputs": [
        {
          "output_type": "stream",
          "name": "stdout",
          "text": [
            "없음\n"
          ]
        }
      ]
    },
    {
      "cell_type": "code",
      "source": [
        "import os\n",
        "if not(os.path.isdir('data')):  #isdir() 디렉토리있ㅇㅁ?\n",
        "  os.makedirs('data') # makedirs 없으면 디렉토리 만드셈\n",
        "\n"
      ],
      "metadata": {
        "id": "3T1JyNA_v7g6"
      },
      "execution_count": null,
      "outputs": []
    },
    {
      "cell_type": "code",
      "source": [
        "# close() 없이 닫기\n",
        "# with 블록이 종료되면 언제나 파일 닫기 처리 자동 수행\n",
        "\n",
        "with open('data/exampl2e.txt', 'w') as file:\n",
        "  pass\n",
        "print('여닫기 끝')"
      ],
      "metadata": {
        "colab": {
          "base_uri": "https://localhost:8080/"
        },
        "id": "5EEDmYbbv1u1",
        "outputId": "ec04a875-8b55-488a-b307-059b31c84c18"
      },
      "execution_count": null,
      "outputs": [
        {
          "output_type": "stream",
          "name": "stdout",
          "text": [
            "여닫기 끝\n"
          ]
        }
      ]
    },
    {
      "cell_type": "code",
      "source": [
        "# write 로 쓰기\n",
        "num=2\n",
        "name ='홍길동'\n",
        "\n",
        "filename = 'exam'\n",
        "with open(filename , 'w') as file :\n",
        "  file.write('1 이찬수\\n')\n",
        "  file.write(f'{num}{name} \\n')\n",
        "\n",
        "print('끗')"
      ],
      "metadata": {
        "colab": {
          "base_uri": "https://localhost:8080/"
        },
        "id": "6HFyyqFOvrSZ",
        "outputId": "070b3ef3-0e25-4b3b-a781-5285e1e0c812"
      },
      "execution_count": null,
      "outputs": [
        {
          "output_type": "stream",
          "name": "stdout",
          "text": [
            "끗\n"
          ]
        }
      ]
    },
    {
      "cell_type": "code",
      "source": [
        "# read 로 읽기\n",
        "# 전체 문자를 하나의 문자열로 반환\n",
        "\n",
        "filename ='exam'\n",
        "with open(filename, 'r', encoding='utf8') as file:\n",
        "  all= file.read()\n",
        "\n",
        "print(all)"
      ],
      "metadata": {
        "colab": {
          "base_uri": "https://localhost:8080/"
        },
        "id": "O78qRha9vrPD",
        "outputId": "726200d0-fd41-4266-d0d2-6dda63b63422"
      },
      "execution_count": null,
      "outputs": [
        {
          "output_type": "stream",
          "name": "stdout",
          "text": [
            "1 이찬수\n",
            "2홍길동 \n",
            "\n"
          ]
        }
      ]
    },
    {
      "cell_type": "code",
      "source": [
        "# 텍스트 파일 한줄씩 구분해서 읽기\n",
        "# file.readlines()\n",
        "\n",
        "lines = []\n",
        "filename = 'exam'\n",
        "with open(filename, 'r')as file:\n",
        "  while True :\n",
        "   line = file.readline() # 한줄씩 읽어옴\n",
        "\n",
        "   if line =='':\n",
        "    break\n",
        "\n",
        "   lines.append(line.strip())\n",
        "\n",
        "print(lines)"
      ],
      "metadata": {
        "colab": {
          "base_uri": "https://localhost:8080/"
        },
        "id": "Qk3sff4zvrLr",
        "outputId": "243feff8-a883-4c66-f256-04aba74f1ced"
      },
      "execution_count": null,
      "outputs": [
        {
          "output_type": "stream",
          "name": "stdout",
          "text": [
            "['1 이찬수', '2홍길동']\n"
          ]
        }
      ]
    },
    {
      "cell_type": "code",
      "source": [
        "# for 문으로 하기\n",
        "lines = []\n",
        "filename = 'exam'\n",
        "\n",
        "with open(filename, 'r') as file:\n",
        "  for i in file:\n",
        "    lines.append(i.strip('\\n')) # 문자열 시작과 끝의 개행문자 \\n 제거\n",
        "\n",
        "  print(lines)"
      ],
      "metadata": {
        "colab": {
          "base_uri": "https://localhost:8080/"
        },
        "id": "WZBTXgQevrIb",
        "outputId": "f61ba5d6-5fac-4afc-a5ae-0d7c56f5423e"
      },
      "execution_count": null,
      "outputs": [
        {
          "output_type": "stream",
          "name": "stdout",
          "text": [
            "['1 이찬수', '2홍길동 ']\n"
          ]
        }
      ]
    },
    {
      "cell_type": "code",
      "source": [
        "# 이진파일저장 하는법 - pickle 모듈\n",
        "# pickling = 데이터를 바이트 나열로 변환하는 직렬화.    > 저장\n",
        "# pickle.dump(저장데이터, 이진쓰기모드로 열린 객체)\n",
        "\n",
        "# unpickling = 바이트 나열로부터 데이터를 복원하는 역직렬화  >복원\n",
        "# pickle.load(이진읽기몯로 열린객체 )\n",
        "\n",
        "# wb(이진쓰기모드)\n",
        "# rb(이진읽기모드)\n",
        "import pickle\n",
        "\n",
        "filepath = '/content/exam'\n",
        "\n",
        "def save_data(num, name, height, scores): # 피클링으로 저장\n",
        "  with open(filepath, 'wb') as file:\n",
        "    pickle.dump(num, file)\n",
        "    pickle.dump(name, file)\n",
        "    pickle.dump(height, file)\n",
        "    pickle.dump(scores, file)\n",
        "\n",
        "def load_data(): # 언피클링하기\n",
        "  with open(filepath, 'rb') as file:\n",
        "    num = pickle.load(file) # 네부분으로 나눠읽기\n",
        "    name = pickle.load(file)\n",
        "    height = pickle.load(file)\n",
        "    scores = pickle.load(file)\n",
        "\n",
        "    return num, name, height, scores\n",
        "\n",
        "\n",
        "num, name, height = 123, '홍길동', 180\n",
        "\n",
        "scores = {'mid' : 90, 'fin' : 95, 'rep' : 10, 'att' : 10}\n",
        "\n",
        "\n",
        "save_data(num, name, height, scores)\n",
        "\n",
        "r1,r2,r3,r4 = load_data()\n",
        "\n",
        "print(r1,r2,r3,r4)"
      ],
      "metadata": {
        "colab": {
          "base_uri": "https://localhost:8080/"
        },
        "id": "6I8kShIwvrFG",
        "outputId": "d9ea84c1-d6dd-461b-df1c-4c33b51c97d9"
      },
      "execution_count": null,
      "outputs": [
        {
          "output_type": "stream",
          "name": "stdout",
          "text": [
            "123 홍길동 180 {'mid': 90, 'fin': 95, 'rep': 10, 'att': 10}\n"
          ]
        }
      ]
    },
    {
      "cell_type": "markdown",
      "source": [
        "## 12.1 텍스트 입력후 행번호와 출력"
      ],
      "metadata": {
        "id": "HSzHqHKc9JW3"
      }
    },
    {
      "cell_type": "code",
      "source": [
        "filename = 'readme.txt'\n",
        "\n",
        "with open(filename,'w', encoding = 'utf8') as file:\n",
        "  file.write('1 : 안녕하세요 반갑습ㄴ디ㅏ\\n')\n",
        "  file.write('2: 이파일은 테스트제ㄱ작\\n')\n",
        "  file.write('3: 조금낮설더라도뭐')\n"
      ],
      "metadata": {
        "id": "Uz3I37fMvrB8"
      },
      "execution_count": null,
      "outputs": []
    },
    {
      "cell_type": "markdown",
      "source": [
        "## 12.3 shoppingbag에 세이브 로드 추가"
      ],
      "metadata": {
        "id": "Rwd9TUynAWR5"
      }
    },
    {
      "cell_type": "code",
      "source": [
        "shopping_bag = {}\n",
        "filename='shopping_bag.txt'\n",
        "\n",
        "def buy():\n",
        "  while True:\n",
        "    print('[구입]')\n",
        "    pro = input('상품명?')\n",
        "    if pro == '':\n",
        "      break\n",
        "    cnt = input('수량은?')\n",
        "    shopping_bag[pro] = cnt\n",
        "    print(f'장바구니에 {pro}가 {cnt}개 담겼습니다')\n",
        "  print(f'>>장바구니 보기 : {shopping_bag}')\n",
        "\n",
        "\n",
        "def save_data(sbag, filepath):\n",
        "  with open(filepath, 'w', encoding='utf8') as file:\n",
        "    for item in sbag:\n",
        "      file.write(f'{item}\\n')\n",
        "\n",
        "def load_data(filepath):\n",
        "  lines = []\n",
        "  with open(filepath, 'r', encoding='utf8') as file:\n",
        "    for line in file:\n",
        "      lines.append(line.strip('\\n'))\n",
        "      return lines\n",
        "\n",
        "if os.path.exists(filename):\n",
        "  print('파일읽기')\n",
        "  shopping_bag = load_data(filename)\n",
        "\n",
        "else: print('cut')"
      ],
      "metadata": {
        "colab": {
          "base_uri": "https://localhost:8080/",
          "height": 411
        },
        "id": "8UOGgQ24vq97",
        "outputId": "69ae9061-b1b6-4a67-dff6-9a446b12fad0"
      },
      "execution_count": null,
      "outputs": [
        {
          "name": "stdout",
          "output_type": "stream",
          "text": [
            "파일읽기\n",
            "[구입]\n",
            "상품명?dkdk\n",
            "수량은?1\n"
          ]
        },
        {
          "output_type": "error",
          "ename": "TypeError",
          "evalue": "list indices must be integers or slices, not str",
          "traceback": [
            "\u001b[0;31m---------------------------------------------------------------------------\u001b[0m",
            "\u001b[0;31mTypeError\u001b[0m                                 Traceback (most recent call last)",
            "\u001b[0;32m<ipython-input-55-352db9458c1b>\u001b[0m in \u001b[0;36m<cell line: 27>\u001b[0;34m()\u001b[0m\n\u001b[1;32m     28\u001b[0m   \u001b[0mprint\u001b[0m\u001b[0;34m(\u001b[0m\u001b[0;34m'파일읽기'\u001b[0m\u001b[0;34m)\u001b[0m\u001b[0;34m\u001b[0m\u001b[0;34m\u001b[0m\u001b[0m\n\u001b[1;32m     29\u001b[0m   \u001b[0mshopping_bag\u001b[0m \u001b[0;34m=\u001b[0m \u001b[0mload_data\u001b[0m\u001b[0;34m(\u001b[0m\u001b[0mfilename\u001b[0m\u001b[0;34m)\u001b[0m\u001b[0;34m\u001b[0m\u001b[0;34m\u001b[0m\u001b[0m\n\u001b[0;32m---> 30\u001b[0;31m   \u001b[0mbuy\u001b[0m\u001b[0;34m(\u001b[0m\u001b[0;34m)\u001b[0m\u001b[0;34m\u001b[0m\u001b[0;34m\u001b[0m\u001b[0m\n\u001b[0m\u001b[1;32m     31\u001b[0m \u001b[0;32melse\u001b[0m\u001b[0;34m:\u001b[0m \u001b[0mprint\u001b[0m\u001b[0;34m(\u001b[0m\u001b[0;34m'cut'\u001b[0m\u001b[0;34m)\u001b[0m\u001b[0;34m\u001b[0m\u001b[0;34m\u001b[0m\u001b[0m\n",
            "\u001b[0;32m<ipython-input-55-352db9458c1b>\u001b[0m in \u001b[0;36mbuy\u001b[0;34m()\u001b[0m\n\u001b[1;32m      8\u001b[0m       \u001b[0;32mbreak\u001b[0m\u001b[0;34m\u001b[0m\u001b[0;34m\u001b[0m\u001b[0m\n\u001b[1;32m      9\u001b[0m     \u001b[0mcnt\u001b[0m \u001b[0;34m=\u001b[0m \u001b[0mint\u001b[0m\u001b[0;34m(\u001b[0m\u001b[0minput\u001b[0m\u001b[0;34m(\u001b[0m\u001b[0;34m'수량은?'\u001b[0m\u001b[0;34m)\u001b[0m\u001b[0;34m)\u001b[0m\u001b[0;34m\u001b[0m\u001b[0;34m\u001b[0m\u001b[0m\n\u001b[0;32m---> 10\u001b[0;31m     \u001b[0mshopping_bag\u001b[0m\u001b[0;34m[\u001b[0m\u001b[0mpro\u001b[0m\u001b[0;34m]\u001b[0m \u001b[0;34m=\u001b[0m \u001b[0mcnt\u001b[0m\u001b[0;34m\u001b[0m\u001b[0;34m\u001b[0m\u001b[0m\n\u001b[0m\u001b[1;32m     11\u001b[0m     \u001b[0mprint\u001b[0m\u001b[0;34m(\u001b[0m\u001b[0;34mf'장바구니에 {pro}가 {cnt}개 담겼습니다'\u001b[0m\u001b[0;34m)\u001b[0m\u001b[0;34m\u001b[0m\u001b[0;34m\u001b[0m\u001b[0m\n\u001b[1;32m     12\u001b[0m   \u001b[0mprint\u001b[0m\u001b[0;34m(\u001b[0m\u001b[0;34mf'>>장바구니 보기 : {shopping_bag}'\u001b[0m\u001b[0;34m)\u001b[0m\u001b[0;34m\u001b[0m\u001b[0;34m\u001b[0m\u001b[0m\n",
            "\u001b[0;31mTypeError\u001b[0m: list indices must be integers or slices, not str"
          ]
        }
      ]
    },
    {
      "cell_type": "code",
      "source": [
        "import os\n",
        "\n",
        "shopping_bag = {}\n",
        "filename = 'shopping_bag.txt'\n",
        "\n",
        "def buy():\n",
        "  while True:\n",
        "    print('[구입]')\n",
        "    pro = input('상품명? ')\n",
        "    if pro == '':\n",
        "      break\n",
        "    cnt = input('수량은? ')\n",
        "    shopping_bag[pro] = cnt\n",
        "    print(f'장바구니에 {pro}가 {cnt}개 담겼습니다')\n",
        "  print(f'>>장바구니 보기 : {shopping_bag}')\n",
        "\n",
        "def save_data(sbag, filepath):\n",
        "  with open(filepath, 'w', encoding='utf8') as file:\n",
        "    for item, quantity in sbag.items():\n",
        "      file.write(f'{item},{quantity}\\n')\n",
        "\n",
        "def load_data(filepath):\n",
        "  sbag = {}\n",
        "  with open(filepath, 'r', encoding='utf8') as file:\n",
        "    for line in file:\n",
        "      item, quantity = line.strip().split(',')\n",
        "      sbag[item] = quantity\n",
        "  return sbag\n",
        "\n",
        "if os.path.exists(filename):\n",
        "  print('파일 읽기')\n",
        "  shopping_bag = load_data(filename)\n",
        "else:\n",
        "  print('새로운 장바구니를 시작합니다')\n",
        "\n",
        "buy()\n",
        "save_data(shopping_bag, filename)\n",
        "print('장바구니 내용이 저장되었습니다.')\n"
      ],
      "metadata": {
        "colab": {
          "base_uri": "https://localhost:8080/"
        },
        "id": "EitbVCOPEtTe",
        "outputId": "c01e8b78-2518-4b9f-a5c5-e2440623c497"
      },
      "execution_count": null,
      "outputs": [
        {
          "output_type": "stream",
          "name": "stdout",
          "text": [
            "파일 읽기\n",
            "[구입]\n",
            "상품명? ㅇㅇ\n",
            "수량은? 1\n",
            "장바구니에 ㅇㅇ가 1개 담겼습니다\n",
            "[구입]\n",
            "상품명? \n",
            ">>장바구니 보기 : {'ㅇㅇ': '1'}\n",
            "장바구니 내용이 저장되었습니다.\n"
          ]
        }
      ]
    },
    {
      "cell_type": "code",
      "source": [
        "# 이진파일저장 하는법 - pickle 모듈\n",
        "# pickling = 데이터를 바이트 나열로 변환하는 직렬화.    > 저장\n",
        "# pickle.dump(저장데이터, 이진쓰기모드로 열린 객체)\n",
        "\n",
        "# unpickling = 바이트 나열로부터 데이터를 복원하는 역직렬화  >복원\n",
        "# pickle.load(이진읽기몯로 열린객체 )\n",
        "\n",
        "# wb(이진쓰기모드)\n",
        "# rb(이진읽기모드)\n",
        "import pickle\n",
        "\n",
        "filepath = '/content/exam'\n",
        "\n",
        "def save_data(num, name, height, scores): # 피클링으로 저장\n",
        "  with open(filepath, 'wb') as file:\n",
        "    pickle.dump(num, file)\n",
        "    pickle.dump(name, file)\n",
        "    pickle.dump(height, file)\n",
        "    pickle.dump(scores, file)\n",
        "\n",
        "def load_data(): # 언피클링하기\n",
        "  with open(filepath, 'rb') as file:\n",
        "    num = pickle.load(file) # 네부분으로 나눠읽기\n",
        "    name = pickle.load(file)\n",
        "    height = pickle.load(file)\n",
        "    scores = pickle.load(file)\n",
        "\n",
        "    return num, name, height, scores\n",
        "\n",
        "\n",
        "num, name, height = 123, '홍길동', 180\n",
        "\n",
        "scores = {'mid' : 90, 'fin' : 95, 'rep' : 10, 'att' : 10}\n",
        "\n",
        "\n",
        "save_data(num, name, height, scores)\n",
        "\n",
        "r1,r2,r3,r4 = load_data()\n",
        "\n",
        "print(r1,r2,r3,r4)"
      ],
      "metadata": {
        "id": "sEjfXCADvq7k"
      },
      "execution_count": null,
      "outputs": []
    },
    {
      "cell_type": "code",
      "source": [],
      "metadata": {
        "id": "RU7jbjVUvq3l"
      },
      "execution_count": null,
      "outputs": []
    },
    {
      "cell_type": "code",
      "source": [],
      "metadata": {
        "id": "w7PT8-f2vq1F"
      },
      "execution_count": null,
      "outputs": []
    },
    {
      "cell_type": "code",
      "source": [],
      "metadata": {
        "id": "AvMu4nxevqxK"
      },
      "execution_count": null,
      "outputs": []
    }
  ]
}